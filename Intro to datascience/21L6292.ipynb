{
 "cells": [
  {
   "cell_type": "markdown",
   "metadata": {},
   "source": [
    "Question1:"
   ]
  },
  {
   "cell_type": "code",
   "execution_count": 2,
   "metadata": {},
   "outputs": [
    {
     "ename": "IndentationError",
     "evalue": "unindent does not match any outer indentation level (<tokenize>, line 35)",
     "output_type": "error",
     "traceback": [
      "\u001b[1;36m  File \u001b[1;32m<tokenize>:35\u001b[1;36m\u001b[0m\n\u001b[1;33m    for a in range(0,n):\u001b[0m\n\u001b[1;37m    ^\u001b[0m\n\u001b[1;31mIndentationError\u001b[0m\u001b[1;31m:\u001b[0m unindent does not match any outer indentation level\n"
     ]
    }
   ],
   "source": [
    "test=[[1,2,3],\n",
    "      [2,3,1],\n",
    "      [3,2,1]]\n",
    "test2=[[1,2,3,4],\n",
    "       [2,3,1,3],\n",
    "       [3,1,2,3],\n",
    "       [4,4,4,4]]\n",
    "test3 =[['a','b','c'],\n",
    "        ['b','c','a'],\n",
    "        ['c','a','b']]\n",
    "\n",
    "        def check_input(list);\n",
    "        duplicate=0;\n",
    "        out_of_range;\n",
    "\n",
    "        n=len(list)\n",
    "\n",
    "        for x in range(0,n):\n",
    "            for y in range(0,n-1):\n",
    "                if(list[x][y]==list[x][y+1]):\n",
    "                    duplicate=1;\n",
    "\n",
    "            for x in range(0,n-1):\n",
    "            for y in range(0,n):\n",
    "                if(list[y][x]==list[y][x+1]):\n",
    "                    duplicate=1;\n",
    "\n",
    "                    if(type(list[0][0] != str)):\n",
    "                        for a in range(0,n):\n",
    "                            for b in range(0,n):\n",
    "                                if(list[x][y]>n):\n",
    "                                    out_of_range=1;\n",
    "\n",
    "\n",
    "    for a in range(0,n):\n",
    "    for b in range(0,n):\n",
    "      if((type(list[a][b])) == str):\n",
    "          return False\n",
    "\n",
    "\n",
    "  if(duplicate == 1 or out_of_range==1):\n",
    "    return False\n",
    "  else:\n",
    "    return True\n",
    "\n",
    "\n",
    "print(check_input(test1)) \n",
    "print(check_input(test2))\n",
    "print(check_input(test3)) \n",
    "\n",
    "          \n",
    "\n",
    "                                    \n",
    "\n",
    "                                    \n",
    "                                    \n",
    "\n",
    "\n"
   ]
  },
  {
   "cell_type": "markdown",
   "metadata": {},
   "source": [
    "Question2:"
   ]
  },
  {
   "cell_type": "code",
   "execution_count": 9,
   "metadata": {},
   "outputs": [
    {
     "data": {
      "text/html": [
       "<div>\n",
       "<style scoped>\n",
       "    .dataframe tbody tr th:only-of-type {\n",
       "        vertical-align: middle;\n",
       "    }\n",
       "\n",
       "    .dataframe tbody tr th {\n",
       "        vertical-align: top;\n",
       "    }\n",
       "\n",
       "    .dataframe thead th {\n",
       "        text-align: right;\n",
       "    }\n",
       "</style>\n",
       "<table border=\"1\" class=\"dataframe\">\n",
       "  <thead>\n",
       "    <tr style=\"text-align: right;\">\n",
       "      <th></th>\n",
       "      <th>Student name</th>\n",
       "      <th>Exam name</th>\n",
       "      <th>Exam date</th>\n",
       "      <th>Marks</th>\n",
       "    </tr>\n",
       "  </thead>\n",
       "  <tbody>\n",
       "    <tr>\n",
       "      <th>0</th>\n",
       "      <td>James Walker</td>\n",
       "      <td>Biology</td>\n",
       "      <td>05/06/2016</td>\n",
       "      <td>31.0</td>\n",
       "    </tr>\n",
       "    <tr>\n",
       "      <th>1</th>\n",
       "      <td>Velma Clemons</td>\n",
       "      <td>Biology</td>\n",
       "      <td>05/06/2016</td>\n",
       "      <td>43.0</td>\n",
       "    </tr>\n",
       "    <tr>\n",
       "      <th>2</th>\n",
       "      <td>Kibo Underwood</td>\n",
       "      <td>Biology</td>\n",
       "      <td>05/06/2016</td>\n",
       "      <td>81.0</td>\n",
       "    </tr>\n",
       "    <tr>\n",
       "      <th>3</th>\n",
       "      <td>Louis Mcgee</td>\n",
       "      <td>Biology</td>\n",
       "      <td>05/06/2016</td>\n",
       "      <td>11.0</td>\n",
       "    </tr>\n",
       "    <tr>\n",
       "      <th>4</th>\n",
       "      <td>Phyllis Paul</td>\n",
       "      <td>Biology</td>\n",
       "      <td>05/06/2016</td>\n",
       "      <td>18.0</td>\n",
       "    </tr>\n",
       "    <tr>\n",
       "      <th>...</th>\n",
       "      <td>...</td>\n",
       "      <td>...</td>\n",
       "      <td>...</td>\n",
       "      <td>...</td>\n",
       "    </tr>\n",
       "    <tr>\n",
       "      <th>195</th>\n",
       "      <td>Yen Bowers</td>\n",
       "      <td>Sociology</td>\n",
       "      <td>21/06/2016</td>\n",
       "      <td>52.0</td>\n",
       "    </tr>\n",
       "    <tr>\n",
       "      <th>196</th>\n",
       "      <td>Ryan Pena</td>\n",
       "      <td>Sociology</td>\n",
       "      <td>21/06/2016</td>\n",
       "      <td>16.0</td>\n",
       "    </tr>\n",
       "    <tr>\n",
       "      <th>197</th>\n",
       "      <td>Portia Hamilton</td>\n",
       "      <td>Sociology</td>\n",
       "      <td>21/06/2016</td>\n",
       "      <td>34.0</td>\n",
       "    </tr>\n",
       "    <tr>\n",
       "      <th>198</th>\n",
       "      <td>Sydnee Chambers</td>\n",
       "      <td>Sociology</td>\n",
       "      <td>21/06/2016</td>\n",
       "      <td>76.0</td>\n",
       "    </tr>\n",
       "    <tr>\n",
       "      <th>199</th>\n",
       "      <td>Stacy Small</td>\n",
       "      <td>Sociology</td>\n",
       "      <td>21/06/2016</td>\n",
       "      <td>96.0</td>\n",
       "    </tr>\n",
       "  </tbody>\n",
       "</table>\n",
       "<p>200 rows × 4 columns</p>\n",
       "</div>"
      ],
      "text/plain": [
       "        Student name  Exam name   Exam date  Marks\n",
       "0       James Walker    Biology  05/06/2016   31.0\n",
       "1      Velma Clemons    Biology  05/06/2016   43.0\n",
       "2     Kibo Underwood    Biology  05/06/2016   81.0\n",
       "3        Louis Mcgee    Biology  05/06/2016   11.0\n",
       "4       Phyllis Paul    Biology  05/06/2016   18.0\n",
       "..               ...        ...         ...    ...\n",
       "195       Yen Bowers  Sociology  21/06/2016   52.0\n",
       "196        Ryan Pena  Sociology  21/06/2016   16.0\n",
       "197  Portia Hamilton  Sociology  21/06/2016   34.0\n",
       "198  Sydnee Chambers  Sociology  21/06/2016   76.0\n",
       "199      Stacy Small  Sociology  21/06/2016   96.0\n",
       "\n",
       "[200 rows x 4 columns]"
      ]
     },
     "metadata": {},
     "output_type": "display_data"
    }
   ],
   "source": [
    "import pandas as pd\n",
    "\n",
    "#using github repo to import dataset into google collab\n",
    "url=\"https://raw.githubusercontent.com/Muhammad-Hamza-01/21L-6292-Assignment-1/main/StudentMarkSheet.csv\"\n",
    "df = pd.read_csv(url)\n",
    "\n",
    "display(df)"
   ]
  },
  {
   "cell_type": "markdown",
   "metadata": {},
   "source": [
    "pert B:"
   ]
  },
  {
   "cell_type": "code",
   "execution_count": 10,
   "metadata": {},
   "outputs": [
    {
     "name": "stderr",
     "output_type": "stream",
     "text": [
      "C:\\Users\\Hp\\AppData\\Local\\Temp\\ipykernel_10080\\1363213471.py:3: FutureWarning: The error_bad_lines argument has been deprecated and will be removed in a future version. Use on_bad_lines in the future.\n",
      "\n",
      "\n",
      "  df = pd.read_csv(url,error_bad_lines=False)\n"
     ]
    },
    {
     "name": "stdout",
     "output_type": "stream",
     "text": [
      "Number of Rows in are:\n",
      "200\n",
      "Number of rows that are null:\n",
      "4\n",
      "Number of rows after  all the null values removed in are:\n",
      "196\n"
     ]
    }
   ],
   "source": [
    "import matplotlib_inline as plt\n",
    "\n",
    "df = pd.read_csv(url,error_bad_lines=False)\n",
    "\n",
    "row = df.shape[0]\n",
    "print(\"Number of Rows in are:\")\n",
    "print(row)\n",
    "\n",
    "null = len(df)-len(df.dropna())\n",
    "print(\"Number of rows that are null:\")\n",
    "print(null)\n",
    "print(\"Number of rows after  all the null values removed in are:\")\n",
    "\n",
    "df =df.dropna(axis=0)\n",
    "print(len(df))"
   ]
  },
  {
   "cell_type": "markdown",
   "metadata": {},
   "source": [
    "partC:"
   ]
  },
  {
   "cell_type": "code",
   "execution_count": 11,
   "metadata": {},
   "outputs": [
    {
     "data": {
      "text/html": [
       "<div>\n",
       "<style scoped>\n",
       "    .dataframe tbody tr th:only-of-type {\n",
       "        vertical-align: middle;\n",
       "    }\n",
       "\n",
       "    .dataframe tbody tr th {\n",
       "        vertical-align: top;\n",
       "    }\n",
       "\n",
       "    .dataframe thead th {\n",
       "        text-align: right;\n",
       "    }\n",
       "</style>\n",
       "<table border=\"1\" class=\"dataframe\">\n",
       "  <thead>\n",
       "    <tr style=\"text-align: right;\">\n",
       "      <th></th>\n",
       "      <th>Student name</th>\n",
       "      <th>Exam name</th>\n",
       "      <th>Exam date</th>\n",
       "      <th>Marks</th>\n",
       "    </tr>\n",
       "  </thead>\n",
       "  <tbody>\n",
       "    <tr>\n",
       "      <th>0</th>\n",
       "      <td>James Walker</td>\n",
       "      <td>Biology</td>\n",
       "      <td>05/06/2016</td>\n",
       "      <td>31.0</td>\n",
       "    </tr>\n",
       "    <tr>\n",
       "      <th>42</th>\n",
       "      <td>James Walker</td>\n",
       "      <td>Chemistry</td>\n",
       "      <td>15/06/2016</td>\n",
       "      <td>61.0</td>\n",
       "    </tr>\n",
       "    <tr>\n",
       "      <th>71</th>\n",
       "      <td>James Walker</td>\n",
       "      <td>Mathematics</td>\n",
       "      <td>29/07/2016</td>\n",
       "      <td>23.0</td>\n",
       "    </tr>\n",
       "    <tr>\n",
       "      <th>150</th>\n",
       "      <td>James Walker</td>\n",
       "      <td>Physics</td>\n",
       "      <td>10/06/2016</td>\n",
       "      <td>100.0</td>\n",
       "    </tr>\n",
       "    <tr>\n",
       "      <th>180</th>\n",
       "      <td>James Walker</td>\n",
       "      <td>Sociology</td>\n",
       "      <td>21/06/2016</td>\n",
       "      <td>73.0</td>\n",
       "    </tr>\n",
       "  </tbody>\n",
       "</table>\n",
       "</div>"
      ],
      "text/plain": [
       "     Student name    Exam name   Exam date  Marks\n",
       "0    James Walker      Biology  05/06/2016   31.0\n",
       "42   James Walker    Chemistry  15/06/2016   61.0\n",
       "71   James Walker  Mathematics  29/07/2016   23.0\n",
       "150  James Walker      Physics  10/06/2016  100.0\n",
       "180  James Walker    Sociology  21/06/2016   73.0"
      ]
     },
     "metadata": {},
     "output_type": "display_data"
    }
   ],
   "source": [
    "name = \"James Walker\"\n",
    "filter = df.loc[df['Student name'] ==  name]\n",
    "display(filter)"
   ]
  },
  {
   "cell_type": "markdown",
   "metadata": {},
   "source": [
    "Question 3:\n",
    "Part A:"
   ]
  },
  {
   "cell_type": "code",
   "execution_count": 13,
   "metadata": {},
   "outputs": [
    {
     "name": "stdout",
     "output_type": "stream",
     "text": [
      "Subjects\n",
      "['Biology' 'Chemistry' 'Mathematics' 'Philosophy' 'Physics' 'Sociology']\n",
      "Average:\n",
      "[1820.0, 1315.0, 1763.0, 1749.0, 1087.0, 2129.0]\n"
     ]
    }
   ],
   "source": [
    "url=\"https://raw.githubusercontent.com/Muhammad-Hamza-01/21L-6292-Assignment-1/main/StudentMarkSheet.csv\"\n",
    "D = pd.read_csv(url)\n",
    "\n",
    "D = D.dropna(axis=0)\n",
    "\n",
    "subjects = D[\"Exam name\"].unique()\n",
    "\n",
    "\n",
    "average=[]\n",
    "\n",
    "for a in range(0,len(subjects)):\n",
    "  temp = D.loc[df[\"Exam name\"]==subjects[a]].eval(\"Marks\").sum(axis = 0)\n",
    "  average.append(temp)\n",
    "\n",
    "print(\"Subjects\")\n",
    "print(subjects)\n",
    "print(\"Average:\")\n",
    "print(average)\n"
   ]
  },
  {
   "cell_type": "markdown",
   "metadata": {},
   "source": [
    "Question Part B:"
   ]
  },
  {
   "cell_type": "code",
   "execution_count": 14,
   "metadata": {},
   "outputs": [
    {
     "data": {
      "text/plain": [
       "<AxesSubplot: >"
      ]
     },
     "execution_count": 14,
     "metadata": {},
     "output_type": "execute_result"
    },
    {
     "data": {
      "image/png": "[encoded data removed]",
      "text/plain": [
       "<Figure size 640x480 with 1 Axes>"
      ]
     },
     "metadata": {},
     "output_type": "display_data"
    }
   ],
   "source": [
    "\n",
    "D= pd.DataFrame({\"Average\" : average },index = subjects)\n",
    "\n",
    "D.plot(kind=\"bar\")"
   ]
  },
  {
   "cell_type": "markdown",
   "metadata": {},
   "source": [
    "Question4 PartA:"
   ]
  },
  {
   "cell_type": "code",
   "execution_count": 15,
   "metadata": {},
   "outputs": [
    {
     "data": {
      "text/html": [
       "<div>\n",
       "<style scoped>\n",
       "    .dataframe tbody tr th:only-of-type {\n",
       "        vertical-align: middle;\n",
       "    }\n",
       "\n",
       "    .dataframe tbody tr th {\n",
       "        vertical-align: top;\n",
       "    }\n",
       "\n",
       "    .dataframe thead th {\n",
       "        text-align: right;\n",
       "    }\n",
       "</style>\n",
       "<table border=\"1\" class=\"dataframe\">\n",
       "  <thead>\n",
       "    <tr style=\"text-align: right;\">\n",
       "      <th></th>\n",
       "      <th>Tail Length (cm)</th>\n",
       "      <th>Mass (kg)</th>\n",
       "    </tr>\n",
       "  </thead>\n",
       "  <tbody>\n",
       "    <tr>\n",
       "      <th>0</th>\n",
       "      <td>18.1</td>\n",
       "      <td>3.750</td>\n",
       "    </tr>\n",
       "    <tr>\n",
       "      <th>1</th>\n",
       "      <td>18.6</td>\n",
       "      <td>3.800</td>\n",
       "    </tr>\n",
       "    <tr>\n",
       "      <th>2</th>\n",
       "      <td>19.5</td>\n",
       "      <td>3.250</td>\n",
       "    </tr>\n",
       "    <tr>\n",
       "      <th>3</th>\n",
       "      <td>19.3</td>\n",
       "      <td>3.450</td>\n",
       "    </tr>\n",
       "    <tr>\n",
       "      <th>4</th>\n",
       "      <td>19.0</td>\n",
       "      <td>3.650</td>\n",
       "    </tr>\n",
       "    <tr>\n",
       "      <th>...</th>\n",
       "      <td>...</td>\n",
       "      <td>...</td>\n",
       "    </tr>\n",
       "    <tr>\n",
       "      <th>337</th>\n",
       "      <td>20.7</td>\n",
       "      <td>4.000</td>\n",
       "    </tr>\n",
       "    <tr>\n",
       "      <th>338</th>\n",
       "      <td>20.2</td>\n",
       "      <td>3.400</td>\n",
       "    </tr>\n",
       "    <tr>\n",
       "      <th>339</th>\n",
       "      <td>19.3</td>\n",
       "      <td>3.775</td>\n",
       "    </tr>\n",
       "    <tr>\n",
       "      <th>340</th>\n",
       "      <td>21.0</td>\n",
       "      <td>4.100</td>\n",
       "    </tr>\n",
       "    <tr>\n",
       "      <th>341</th>\n",
       "      <td>19.8</td>\n",
       "      <td>3.775</td>\n",
       "    </tr>\n",
       "  </tbody>\n",
       "</table>\n",
       "<p>342 rows × 2 columns</p>\n",
       "</div>"
      ],
      "text/plain": [
       "     Tail Length (cm)  Mass (kg)\n",
       "0                18.1      3.750\n",
       "1                18.6      3.800\n",
       "2                19.5      3.250\n",
       "3                19.3      3.450\n",
       "4                19.0      3.650\n",
       "..                ...        ...\n",
       "337              20.7      4.000\n",
       "338              20.2      3.400\n",
       "339              19.3      3.775\n",
       "340              21.0      4.100\n",
       "341              19.8      3.775\n",
       "\n",
       "[342 rows x 2 columns]"
      ]
     },
     "metadata": {},
     "output_type": "display_data"
    }
   ],
   "source": [
    "url=\"https://raw.githubusercontent.com/Muhammad-Hamza-01/21L-6292-Assignment-1/main/CatData.csv\"\n",
    "\n",
    "Data = pd.read_csv(url)\n",
    "Data = Data.dropna(axis=0)\n",
    "display(Data)"
   ]
  },
  {
   "cell_type": "markdown",
   "metadata": {},
   "source": [
    "Part B:"
   ]
  },
  {
   "cell_type": "code",
   "execution_count": null,
   "metadata": {},
   "outputs": [],
   "source": [
    "#dependant variable : Tail length\n",
    "#independant variable : Mass"
   ]
  },
  {
   "cell_type": "markdown",
   "metadata": {},
   "source": [
    "Part C:\n"
   ]
  },
  {
   "cell_type": "code",
   "execution_count": 16,
   "metadata": {},
   "outputs": [
    {
     "name": "stdout",
     "output_type": "stream",
     "text": [
      "Total Data:\n",
      "342\n",
      "No of Training Data Samples:\n",
      "273\n",
      "No of Testing Data Samples:\n",
      "69\n"
     ]
    }
   ],
   "source": [
    "import pandas as pd\n",
    "\n",
    "import matplotlib.pyplot as plts\n",
    "import numpy as nup\n",
    "\n",
    "from sklearn import linear_model  \n",
    "\n",
    "url=\"https://raw.githubusercontent.com/Muhammad-Hamza-01/21L-6292-Assignment-1/main/CatData.csv\"\n",
    "Data = pd.read_csv(url)\n",
    "\n",
    "X= int(len(Data)*80/100)\n",
    "\n",
    "frtrain =  Data[:X]\n",
    "frtest = Data[X:]\n",
    "\n",
    "print(\"Total Data:\")\n",
    "print(len(Data))\n",
    "\n",
    "print(\"No of Training Data Samples:\")\n",
    "print(len(frtrain))\n",
    "\n",
    "print(\"No of Testing Data Samples:\")\n",
    "print(len(frtest))\n",
    "\n",
    "\n",
    "\n",
    "\n",
    "\n",
    "model = linear_model.LinearRegression()\n",
    "\n",
    "train_y = nup.array(Data[[\"Tail Length (cm)\"]])\n",
    "\n",
    "train_x = nup.array(Data[[\"Mass (kg)\"]])\n",
    "\n",
    "model.fit(train_x,train_y)\n",
    "\n",
    "\n",
    "\n",
    "inter = model.intercept_\n",
    "\n",
    "cof =  model.coef_\n",
    "\n",
    "\n"
   ]
  },
  {
   "cell_type": "markdown",
   "metadata": {},
   "source": [
    "Part C:"
   ]
  },
  {
   "cell_type": "code",
   "execution_count": 17,
   "metadata": {},
   "outputs": [
    {
     "name": "stdout",
     "output_type": "stream",
     "text": [
      "Slope: [[1.52759156]]\n",
      "Y-intercept: [13.67295593]\n"
     ]
    }
   ],
   "source": [
    "print(\"Slope:\",cof)\n",
    "\n",
    "\n",
    "print(\"Y-intercept:\",inter )\n"
   ]
  },
  {
   "cell_type": "markdown",
   "metadata": {},
   "source": [
    "part E:\n"
   ]
  },
  {
   "cell_type": "code",
   "execution_count": null,
   "metadata": {},
   "outputs": [],
   "source": [
    "import pandas as pd\n",
    "\n",
    "import matplotlib.pyplot as plt\n",
    "import numpy as nup\n",
    "\n",
    "from sklearn import linear_model  \n",
    "\n",
    "url=\"https://raw.githubusercontent.com/Muhammad-Hamza-01/21L-6292-Assignment-1/main/CatData.csv\"\n",
    "Data = pd.read_csv(url)\n",
    "\n",
    "X= int(len(Data)*80/100)\n",
    "\n",
    "frtrain =  Data[:X]\n",
    "frtest = Data[X:]\n",
    "model = linear_model.LinearRegression()\n",
    "\n",
    "train_y = nup.array(Data[[\"Tail Length (cm)\"]])\n",
    "\n",
    "train_x = nup.array(Data[[\"Mass (kg)\"]])\n",
    "\n",
    "model.fit(train_x,train_y)\n",
    "\n",
    "inter = model.intercept_\n",
    "\n",
    "cof =  model.coef_\n",
    "\n",
    "plt.scatter(Data[\"Mass (kg)\"],Data[\"Tail Length (cm)\"])\n",
    "plt.plot(train_x,cof[0]*train_x + inter,color=\"Red\")\n",
    "\n",
    "plt.title(\"Tail length and Mass\")\n",
    "\n",
    "plt.xlabel(\"MASS (kg)\")\n",
    "\n",
    "plt.ylabel(\"Tail Length (cm)\")\n",
    "\n",
    "plt.show()\n"
   ]
  }
 ],
 "metadata": {
  "kernelspec": {
   "display_name": "Python 3.10.7 64-bit (microsoft store)",
   "language": "python",
   "name": "python3"
  },
  "language_info": {
   "codemirror_mode": {
    "name": "ipython",
    "version": 3
   },
   "file_extension": ".py",
   "mimetype": "text/x-python",
   "name": "python",
   "nbconvert_exporter": "python",
   "pygments_lexer": "ipython3",
   "version": "3.10.8"
  },
  "orig_nbformat": 4,
  "vscode": {
   "interpreter": {
    "hash": "a97dfee85535fb1d5b47fe9558cac8ab9061198b8187c5e3fe351ac320e8c61d"
   }
  }
 },
 "nbformat": 4,
 "nbformat_minor": 2
}
