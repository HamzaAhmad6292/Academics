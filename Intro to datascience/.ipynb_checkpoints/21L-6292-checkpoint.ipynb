{
  "cells": [
    {
      "cell_type": "markdown",
      "metadata": {
        "id": "QVpWrdKWppOG"
      },
      "source": [
        "**A.Preprocessing**"
      ]
    },
    {
      "cell_type": "code",
      "execution_count": 1,
      "metadata": {
        "colab": {
          "base_uri": "https://localhost:8080/",
          "height": 1000
        },
        "id": "rRNyOMmqVz-v",
        "outputId": "4b4effb3-d43f-4737-950b-d02476dc3284"
      },
      "outputs": [
        {
          "ename": "ModuleNotFoundError",
          "evalue": "No module named 'google'",
          "output_type": "error",
          "traceback": [
            "\u001b[1;31m---------------------------------------------------------------------------\u001b[0m",
            "\u001b[1;31mModuleNotFoundError\u001b[0m                       Traceback (most recent call last)",
            "Cell \u001b[1;32mIn [1], line 4\u001b[0m\n\u001b[0;32m      1\u001b[0m \u001b[39mimport\u001b[39;00m \u001b[39mpandas\u001b[39;00m \u001b[39mas\u001b[39;00m \u001b[39mpd\u001b[39;00m\n\u001b[0;32m      3\u001b[0m \u001b[39mimport\u001b[39;00m \u001b[39mmatplotlib\u001b[39;00m\u001b[39m.\u001b[39;00m\u001b[39mpyplot\u001b[39;00m \u001b[39mas\u001b[39;00m \u001b[39mplt\u001b[39;00m\n\u001b[1;32m----> 4\u001b[0m \u001b[39mfrom\u001b[39;00m \u001b[39mgoogle\u001b[39;00m\u001b[39m.\u001b[39;00m\u001b[39mcolab\u001b[39;00m \u001b[39mimport\u001b[39;00m files\n\u001b[0;32m      5\u001b[0m \u001b[39mfrom\u001b[39;00m \u001b[39mscipy\u001b[39;00m \u001b[39mimport\u001b[39;00m stats\n\u001b[0;32m      6\u001b[0m uploaded \u001b[39m=\u001b[39m files\u001b[39m.\u001b[39mupload()\n",
            "\u001b[1;31mModuleNotFoundError\u001b[0m: No module named 'google'"
          ]
        }
      ],
      "source": [
        "import pandas as pd\n",
        "\n",
        "import matplotlib.pyplot as plt\n",
        "from google.colab import files\n",
        "from scipy import stats\n",
        "uploaded = files.upload()\n",
        "import io\n"
      ]
    },
    {
      "cell_type": "markdown",
      "metadata": {
        "id": "TQHTodcIrMsQ"
      },
      "source": []
    },
    {
      "cell_type": "code",
      "execution_count": null,
      "metadata": {
        "id": "Uwo5L_GXqb1F"
      },
      "outputs": [],
      "source": [
        "features_holder = [3,22,19,26,27,37,38,40,42,43,44,74,77,8,49]\n",
        "\n",
        "\n",
        "df1 = pd.read_excel(io.BytesIO(uploaded['CollectedData.xlsx']),'Sheet2',usecols = features_holder)\n",
        "df1.fillna(0)\n",
        "\n",
        "list_features = list(df1.columns)\n",
        "df1.info()\n",
        "df1.interpolate()\n",
        "\n",
        "for x in list_features:\n",
        "  df1[x].fillna(df1[x].mean(),inplace=True)\n",
        "\n",
        "df1 = df1.drop_duplicates(df1.columns)\n",
        "  \t\n",
        "for x in df.columns:\n",
        "        \n",
        "  mean = df1[x].mean()\n",
        "  sd = df1[x].std()\n",
        "        \n",
        "  df1 = df1[(df1[x] <= mean+(3*sd))]\n",
        "\n",
        "\n",
        "for feature_name in df.columns:\n",
        "        min_value = df[feature_name].min()\n",
        "        max_value = df[feature_name].max()\n",
        "        df[feature_name] = (df[feature_name] - min_value) / (max_value - min_value)\n",
        "\n",
        "df1.info()\n"
      ]
    },
    {
      "cell_type": "code",
      "execution_count": null,
      "metadata": {
        "colab": {
          "base_uri": "https://localhost:8080/",
          "height": 282
        },
        "id": "pIaq99Qa37Yj",
        "outputId": "c4a69cca-f998-44dd-b248-05962a07a3ed"
      },
      "outputs": [
        {
          "data": {
            "text/plain": [
              "<matplotlib.axes._subplots.AxesSubplot at 0x7fe1820464d0>"
            ]
          },
          "execution_count": 29,
          "metadata": {},
          "output_type": "execute_result"
        },
        {
          "data": {
            "image/png": "[encoded data removed]",
            "text/plain": [
              "<Figure size 432x288 with 1 Axes>"
            ]
          },
          "metadata": {
            "needs_background": "light"
          },
          "output_type": "display_data"
        }
      ],
      "source": [
        "import matplotlib.pyplot as plt\n",
        "  histo=df[0].plot()\n"
      ]
    }
  ],
  "metadata": {
    "colab": {
      "provenance": []
    },
    "kernelspec": {
      "display_name": "Python 3.10.8 64-bit (microsoft store)",
      "language": "python",
      "name": "python3"
    },
    "language_info": {
      "codemirror_mode": {
        "name": "ipython",
        "version": 3
      },
      "file_extension": ".py",
      "mimetype": "text/x-python",
      "name": "python",
      "nbconvert_exporter": "python",
      "pygments_lexer": "ipython3",
      "version": "3.10.8"
    },
    "vscode": {
      "interpreter": {
        "hash": "a97dfee85535fb1d5b47fe9558cac8ab9061198b8187c5e3fe351ac320e8c61d"
      }
    }
  },
  "nbformat": 4,
  "nbformat_minor": 0
}
