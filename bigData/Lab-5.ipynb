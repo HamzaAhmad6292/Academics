{
 "cells": [
  {
   "cell_type": "code",
   "execution_count": 65,
   "id": "ddb96783-288e-485d-bd9d-ba9d898affe3",
   "metadata": {},
   "outputs": [
    {
     "name": "stdout",
     "output_type": "stream",
     "text": [
      "[[0.16 0.11]\n",
      " [0.66 0.14]\n",
      " [0.2  0.37]\n",
      " [0.82 0.1 ]\n",
      " [0.84 0.1 ]\n",
      " [0.98 0.47]\n",
      " [0.98 0.6 ]\n",
      " [0.74 0.04]\n",
      " [0.28 0.12]\n",
      " [0.3  0.12]]\n"
     ]
    }
   ],
   "source": [
    "#Divisive\n",
    "#Data Points\n",
    "import numpy as np\n",
    "data_points = np.random.rand(10, 2)\n",
    "data_points = np.around(data_points, decimals=2)\n",
    "print(data_points)"
   ]
  },
  {
   "cell_type": "code",
   "execution_count": 67,
   "id": "3ff9c236-0ac9-4f93-8fbf-e44fa36fc970",
   "metadata": {},
   "outputs": [
    {
     "name": "stdout",
     "output_type": "stream",
     "text": [
      "Cluster 1: [array([0.16, 0.11])]\n",
      "Cluster 2: [array([0.66, 0.14])]\n",
      "Cluster 3: [array([0.2 , 0.37])]\n",
      "Cluster 4: [array([0.82, 0.1 ])]\n",
      "Cluster 5: [array([0.84, 0.1 ])]\n",
      "Cluster 6: [array([0.98, 0.47])]\n",
      "Cluster 7: [array([0.98, 0.6 ])]\n",
      "Cluster 8: [array([0.74, 0.04])]\n",
      "Cluster 9: [array([0.28, 0.12])]\n",
      "Cluster 10: [array([0.3 , 0.12])]\n"
     ]
    }
   ],
   "source": [
    "\n",
    "\n",
    "max_clusters = 2\n",
    "\n",
    "def euclidean_distance(point1, point2):\n",
    "    return np.sqrt(np.sum((point1 - point2) ** 2))\n",
    "\n",
    "\n",
    "def find_closest_clusters(cluster_centers):\n",
    "    min_distance = float(\"inf\")\n",
    "    closest_clusters = None\n",
    "\n",
    "    for i in range(len(cluster_centers)):\n",
    "        for j in range(i + 1, len(cluster_centers)):\n",
    "            distance = euclidean_distance(cluster_centers[i], cluster_centers[j])\n",
    "            if distance < min_distance:\n",
    "                min_distance = distance\n",
    "                closest_clusters = (i, j)\n",
    "\n",
    "    return closest_clusters\n",
    "\n",
    "\n",
    "def divisive(data_points, max_clusters):\n",
    "    clusters = [[point] for point in data_points]\n",
    "\n",
    "    while len(clusters) < max_clusters:\n",
    "        closest_clusters = find_closest_clusters(clusters)\n",
    "        merge_i, merge_j = closest_clusters\n",
    "\n",
    "\n",
    "        merged_cluster = clusters[merge_i] + clusters[merge_j]\n",
    "        clusters.pop(merge_j)\n",
    "        clusters[merge_i] = merged_cluster\n",
    "\n",
    "    return clusters\n",
    "\n",
    "\n",
    "result_clusters = divisive(data_points, max_clusters)\n",
    "\n",
    "\n",
    "for i, cluster in enumerate(result_clusters):\n",
    "    print(f\"Cluster {i + 1}: {cluster}\")\n"
   ]
  }
 ],
 "metadata": {
  "kernelspec": {
   "display_name": "Python 3 (ipykernel)",
   "language": "python",
   "name": "python3"
  },
  "language_info": {
   "codemirror_mode": {
    "name": "ipython",
    "version": 3
   },
   "file_extension": ".py",
   "mimetype": "text/x-python",
   "name": "python",
   "nbconvert_exporter": "python",
   "pygments_lexer": "ipython3",
   "version": "3.9.12"
  }
 },
 "nbformat": 4,
 "nbformat_minor": 5
}
