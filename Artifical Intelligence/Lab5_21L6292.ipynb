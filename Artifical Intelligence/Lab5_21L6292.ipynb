{
  "nbformat": 4,
  "nbformat_minor": 0,
  "metadata": {
    "colab": {
      "provenance": []
    },
    "kernelspec": {
      "name": "python3",
      "display_name": "Python 3"
    },
    "language_info": {
      "name": "python"
    }
  },
  "cells": [
    {
      "cell_type": "code",
      "execution_count": null,
      "metadata": {
        "colab": {
          "base_uri": "https://localhost:8080/"
        },
        "id": "u9NJIIlMc247",
        "outputId": "d3e64b2e-b20d-4fc5-d625-f920897b1bd6"
      },
      "outputs": [
        {
          "output_type": "stream",
          "name": "stdout",
          "text": [
            "Squared numbers: [1, 4, 9, 16, 25]\n",
            "Cubed numbers: [1, 8, 27, 64, 125]\n"
          ]
        }
      ],
      "source": [
        "#Question1\n",
        "nums = [1, 2, 3, 4, 5]\n",
        "\n",
        "square = lambda x: x ** 2\n",
        "\n",
        "cube = lambda x: x ** 3\n",
        "\n",
        "squared = list(map(square, nums))\n",
        "\n",
        "cubed = list(map(cube, nums))\n",
        "\n",
        "print(\"Squared numbers:\", squared)\n",
        "\n",
        "print(\"Cubed numbers:\", cubed)\n"
      ]
    },
    {
      "cell_type": "code",
      "source": [
        "#Q2\n",
        "class Rectangle:\n",
        "    def __init__(self, length, width):\n",
        "\n",
        "        self.length = length\n",
        "        self.width = width\n",
        "\n",
        "\n",
        "\n",
        "    def calculate_area(self):\n",
        "\n",
        "        return self.length * self.width\n",
        "\n",
        "\n",
        "\n",
        "r = Rectangle(3,3)\n",
        "area = r.calculate_area()\n",
        "\n",
        "print(\"Area:\", area)\n"
      ],
      "metadata": {
        "colab": {
          "base_uri": "https://localhost:8080/"
        },
        "id": "e7YTMe32dBRD",
        "outputId": "7e756f8f-2876-4535-fd8b-a4479beb6c9c"
      },
      "execution_count": null,
      "outputs": [
        {
          "output_type": "stream",
          "name": "stdout",
          "text": [
            "Area: 9\n"
          ]
        }
      ]
    },
    {
      "cell_type": "code",
      "source": [
        "#Q3\n",
        "class Queue:\n",
        "\n",
        "    def __init__(self):\n",
        "\n",
        "        self.q = []\n",
        "\n",
        "    def push(self, item):\n",
        "\n",
        "        self.q.append(item)\n",
        "\n",
        "    def pop(self):\n",
        "\n",
        "        return self.q.pop() if self.q else None\n",
        "\n",
        "q = Queue()\n",
        "\n",
        "q.push(1)\n",
        "\n",
        "q.push(2)\n",
        "\n",
        "q.push(3)\n",
        "\n",
        "print(\"Popped item:\", q.pop())\n",
        "\n",
        "print(\"Popped item:\", q.pop())\n",
        "\n",
        "print(\"Popped item:\", q.pop())\n",
        "\n"
      ],
      "metadata": {
        "id": "sGRo-pL1gPx_"
      },
      "execution_count": null,
      "outputs": []
    }
  ]
}