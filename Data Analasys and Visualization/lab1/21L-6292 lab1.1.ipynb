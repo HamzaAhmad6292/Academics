{
  "cells": [
    {
      "cell_type": "markdown",
      "source": [
        "# <center> DS3001 - Data Analysis & Visualization - Lab Manual - 1.1 </center>"
      ],
      "metadata": {
        "id": "TtN-gspSKRA_"
      }
    },
    {
      "cell_type": "markdown",
      "source": [
        "## Q1: Verbing"
      ],
      "metadata": {
        "id": "oErPOITtRlLb"
      }
    },
    {
      "cell_type": "code",
      "execution_count": 3,
      "metadata": {
        "id": "mZ2V-vy4KX1c",
        "outputId": "00a99fda-a0d1-4191-a6d7-67bd6bbe1f32",
        "colab": {
          "base_uri": "https://localhost:8080/"
        }
      },
      "outputs": [
        {
          "output_type": "stream",
          "name": "stdout",
          "text": [
            "runing\n",
            "playing\n",
            "swimmingly\n"
          ]
        }
      ],
      "source": [
        "def verbing(s):\n",
        " if len(s) < 3:\n",
        "        return s\n",
        " elif s.endswith('ing'):\n",
        "        return s + 'ly'\n",
        " else:\n",
        "        return s + 'ing'\n",
        "print(verbing(\"run\"))\n",
        "print(verbing(\"play\"))\n",
        "print(verbing(\"swimming\"))"
      ]
    },
    {
      "cell_type": "markdown",
      "source": [
        "## Q2: Not Bad"
      ],
      "metadata": {
        "id": "fJJlYbQxRyJs"
      }
    },
    {
      "cell_type": "code",
      "execution_count": 4,
      "metadata": {
        "id": "6XLBuJ7qKVc_",
        "outputId": "49f21747-a65f-4121-f921-891778a594a8",
        "colab": {
          "base_uri": "https://localhost:8080/"
        }
      },
      "outputs": [
        {
          "output_type": "stream",
          "name": "stdout",
          "text": [
            "This dinner is good!\n",
            "This movie is good after all.\n",
            "This is a bad example, not good at all.\n"
          ]
        }
      ],
      "source": [
        "def not_bad(s):\n",
        "  not_index = s.find('not')\n",
        "  bad_index = s.find('bad')\n",
        "\n",
        "  if not_index != -1 and bad_index != -1 and bad_index > not_index:\n",
        "        return s[:not_index] + 'good' + s[bad_index+3:]\n",
        "  else:\n",
        "      return s\n",
        "\n",
        "# Test cases\n",
        "print(not_bad(\"This dinner is not that bad!\"))  # Output: \"This dinner is good!\"\n",
        "print(not_bad(\"This movie is not so bad after all.\"))  # Output: \"This movie is good after all.\"\n",
        "print(not_bad(\"This is a bad example, not good at all.\"))  # Output: \"This is a bad example, not good at all.\""
      ]
    },
    {
      "cell_type": "markdown",
      "source": [
        "## Q3: Front Back"
      ],
      "metadata": {
        "id": "eAyDR6A0R4BS"
      }
    },
    {
      "cell_type": "code",
      "execution_count": 5,
      "metadata": {
        "id": "rHM9y9yjKU8j",
        "outputId": "dac87555-cc1a-4e84-b918-54dbc5635540",
        "colab": {
          "base_uri": "https://localhost:8080/"
        }
      },
      "outputs": [
        {
          "output_type": "stream",
          "name": "stdout",
          "text": [
            "abcxydez\n",
            "helworlold\n",
            "pytprograhonmming\n"
          ]
        }
      ],
      "source": [
        "def front_back(a, b):\n",
        " a_mid = (len(a) + 1) // 2\n",
        " b_mid = (len(b) + 1) // 2\n",
        "\n",
        " a_front = a[:a_mid]\n",
        " a_back = a[a_mid:]\n",
        " b_front = b[:b_mid]\n",
        " b_back = b[b_mid:]\n",
        "\n",
        " return a_front + b_front + a_back + b_back\n",
        "\n",
        "# Test cases\n",
        "print(front_back(\"abcde\", \"xyz\"))\n",
        "print(front_back(\"hello\", \"world\"))\n",
        "print(front_back(\"python\", \"programming\"))\n",
        "\n",
        "\n",
        "\n",
        "\n",
        "\n",
        "\n"
      ]
    },
    {
      "cell_type": "markdown",
      "source": [
        "## Q4: Remove Ajacent"
      ],
      "metadata": {
        "id": "fbA11FbqR9GZ"
      }
    },
    {
      "cell_type": "code",
      "execution_count": 7,
      "metadata": {
        "id": "VVexaC52JXNg",
        "outputId": "4fcc47a4-a62c-4f71-dfe9-9e217259aac5",
        "colab": {
          "base_uri": "https://localhost:8080/"
        }
      },
      "outputs": [
        {
          "output_type": "stream",
          "name": "stdout",
          "text": [
            "[1, 2, 3]\n",
            "[4, 5, 6, 7]\n",
            "[1]\n"
          ]
        }
      ],
      "source": [
        "def remove_adjacent(nums):\n",
        " result = []\n",
        " for num in nums:\n",
        "   if len(result) == 0 or num != result[-1]:\n",
        "            result.append(num)\n",
        " return result\n",
        "\n",
        "# Test cases\n",
        "print(remove_adjacent([1, 2, 2, 3]))\n",
        "print(remove_adjacent([4, 4, 5, 5, 5, 6, 7, 7]))\n",
        "print(remove_adjacent([1, 1, 1, 1, 1]))"
      ]
    },
    {
      "cell_type": "markdown",
      "source": [
        "## Q5: Linear Merge"
      ],
      "metadata": {
        "id": "8DyW_ILdSBeR"
      }
    },
    {
      "cell_type": "code",
      "execution_count": 11,
      "metadata": {
        "id": "wSeuLqs4JOZk",
        "outputId": "54dacfe1-4155-4992-c185-84cd8af87e6e",
        "colab": {
          "base_uri": "https://localhost:8080/"
        }
      },
      "outputs": [
        {
          "output_type": "stream",
          "name": "stdout",
          "text": [
            "[1, 2, 3, 4, 5, 6, 7, 8]\n",
            "[10, 15, 20, 25, 30, 35, 40]\n"
          ]
        }
      ],
      "source": [
        "def linear_merge(list1, list2):\n",
        "    merged = []\n",
        "    i = j = 0\n",
        "\n",
        "    while i < len(list1) and j < len(list2):\n",
        "        if list1[i] < list2[j]:\n",
        "            merged.append(list1[i])\n",
        "            i += 1\n",
        "        else:\n",
        "            merged.append(list2[j])\n",
        "            j += 1\n",
        "\n",
        "    merged.extend(list1[i:])\n",
        "    merged.extend(list2[j:])\n",
        "\n",
        "    return merged\n",
        "\n",
        "list1 = [1, 3, 5, 7]\n",
        "list2 = [2, 4, 6, 8]\n",
        "print(linear_merge(list1, list2))\n",
        "\n",
        "list3 = [10, 20, 30]\n",
        "list4 = [15, 25, 35, 40]\n",
        "print(linear_merge(list3, list4))\n"
      ]
    },
    {
      "cell_type": "markdown",
      "source": [
        "## Main Function"
      ],
      "metadata": {
        "id": "BUpzDi3dSINo"
      }
    },
    {
      "cell_type": "code",
      "execution_count": 12,
      "metadata": {
        "id": "4zwDRf_CH3-O"
      },
      "outputs": [],
      "source": [
        "def main():\n",
        "  print('verbing')\n",
        "  print('Actual: %s \\t Expected: %s' % (verbing('hail'), 'hailing'))\n",
        "  print('Actual: %s \\t Expected: %s' % (verbing('swiming'), 'swimingly'))\n",
        "  print('Actual: %s \\t\\t Expected: %s' % (verbing('do'), 'do'))\n",
        "\n",
        "  print(\"\\n\")\n",
        "  print('not_bad')\n",
        "  print('Actual: %s \\t\\t Expected: %s' % (not_bad('This movie is not so bad'), 'This movie is good'))\n",
        "  print('Actual: %s \\t\\t Expected: %s' % (not_bad('This dinner is not that bad!'), 'This dinner is good!'))\n",
        "  print('Actual: %s \\t\\t Expected: %s' % (not_bad('This tea is not hot'), 'This tea is not hot'))\n",
        "  print('Actual: %s \\t\\t Expected: %s' % (not_bad(\"It's bad yet not\"), \"It's bad yet not\"))\n",
        "\n",
        "  print(\"\\n\")\n",
        "  print('front_back')\n",
        "  print('Actual: %s \\t\\t\\t Expected: %s' % (front_back('abcd', 'xy'), 'abxcdy'))\n",
        "  print('Actual: %s \\t\\t Expected: %s' % (front_back('abcde', 'xyz'), 'abcxydez'))\n",
        "  print('Actual: %s \\t\\t Expected: %s' % (front_back('Kitten', 'Donut'), 'KitDontenut'))\n",
        "\n",
        "  print(\"\\n\")\n",
        "  print('remove_adjacent')\n",
        "  print('Actual: %s \\t Expected: %s' % (remove_adjacent([1, 2, 2, 3]), [1, 2, 3]))\n",
        "  print('Actual: %s \\t\\t Expected: %s' % (remove_adjacent([2, 2, 3, 3, 3]), [2, 3]))\n",
        "  print('Actual: %s \\t\\t Expected: %s' % (remove_adjacent([]), []))\n",
        "\n",
        "\n",
        "  print(\"\\n\")\n",
        "  print('linear_merge')\n",
        "  print('Actual: %s \\t\\t Expected: %s' % (linear_merge(['aa', 'xx', 'zz'], ['bb', 'cc']),\n",
        "       ['aa', 'bb', 'cc', 'xx', 'zz']))\n",
        "  print('Actual: %s \\t\\t Expected: %s' % (linear_merge(['aa', 'xx'], ['bb', 'cc', 'zz']),\n",
        "       ['aa', 'bb', 'cc', 'xx', 'zz']))\n",
        "  print('Actual: %s \\t\\t Expected: %s' % (linear_merge(['aa', 'aa'], ['aa', 'bb', 'bb']),\n",
        "       ['aa', 'aa', 'aa', 'bb', 'bb']))"
      ]
    },
    {
      "cell_type": "code",
      "execution_count": 13,
      "metadata": {
        "id": "IOHxSo9EHvWi",
        "outputId": "8b0a19b6-2e37-4630-c865-a9889515885b",
        "colab": {
          "base_uri": "https://localhost:8080/"
        }
      },
      "outputs": [
        {
          "output_type": "stream",
          "name": "stdout",
          "text": [
            "verbing\n",
            "Actual: hailing \t Expected: hailing\n",
            "Actual: swimingly \t Expected: swimingly\n",
            "Actual: do \t\t Expected: do\n",
            "\n",
            "\n",
            "not_bad\n",
            "Actual: This movie is good \t\t Expected: This movie is good\n",
            "Actual: This dinner is good! \t\t Expected: This dinner is good!\n",
            "Actual: This tea is not hot \t\t Expected: This tea is not hot\n",
            "Actual: It's bad yet not \t\t Expected: It's bad yet not\n",
            "\n",
            "\n",
            "front_back\n",
            "Actual: abxcdy \t\t\t Expected: abxcdy\n",
            "Actual: abcxydez \t\t Expected: abcxydez\n",
            "Actual: KitDontenut \t\t Expected: KitDontenut\n",
            "\n",
            "\n",
            "remove_adjacent\n",
            "Actual: [1, 2, 3] \t Expected: [1, 2, 3]\n",
            "Actual: [2, 3] \t\t Expected: [2, 3]\n",
            "Actual: [] \t\t Expected: []\n",
            "\n",
            "\n",
            "linear_merge\n",
            "Actual: ['aa', 'bb', 'cc', 'xx', 'zz'] \t\t Expected: ['aa', 'bb', 'cc', 'xx', 'zz']\n",
            "Actual: ['aa', 'bb', 'cc', 'xx', 'zz'] \t\t Expected: ['aa', 'bb', 'cc', 'xx', 'zz']\n",
            "Actual: ['aa', 'aa', 'aa', 'bb', 'bb'] \t\t Expected: ['aa', 'aa', 'aa', 'bb', 'bb']\n"
          ]
        }
      ],
      "source": [
        "'''\n",
        "Python files .py are modules. Modules can define variables, functions, and classes.\n",
        "When a Python interpreter reads a Python file, it first sets a few special variables.\n",
        "Then it executes the code from the file.\n",
        "\n",
        "One of those variables is called __name__.\n",
        "\n",
        "When the interpreter runs a module, the __name__ variable will be set as  __main__\n",
        "if the module that is being run is the main program.\n",
        "\n",
        "If the code is importing the module from another module, then the __name__\n",
        "variable will be set to that module’s name.\n",
        "'''\n",
        "# Standard boilerplate to call the main() function.\n",
        "if __name__ == '__main__':\n",
        "  main()"
      ]
    }
  ],
  "metadata": {
    "colab": {
      "provenance": []
    },
    "kernelspec": {
      "name": "python3",
      "display_name": "Python 3"
    },
    "language_info": {
      "name": "python"
    }
  },
  "nbformat": 4,
  "nbformat_minor": 0
}