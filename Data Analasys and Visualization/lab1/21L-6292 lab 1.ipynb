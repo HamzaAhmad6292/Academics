{
  "cells": [
    {
      "cell_type": "markdown",
      "source": [
        "# <center> DS3001 - Data Analysis & Visualization - Lab Manual - 01 </center>\n",
        "\n",
        "\n"
      ],
      "metadata": {
        "id": "YeHN-ypQS8Jm"
      }
    },
    {
      "cell_type": "markdown",
      "source": [
        "## Manual 1"
      ],
      "metadata": {
        "id": "_zq7C8kKSsMj"
      }
    },
    {
      "cell_type": "markdown",
      "source": [
        "# Q1\tPower function (3 Marks)\n",
        "Create a function that takes a base number (b) and an exponent number (e) and returns the b^e calculation, without using built-in power function. Call the function in the next cell and show some outputs."
      ],
      "metadata": {
        "id": "rFzFE4RrS2Ks"
      }
    },
    {
      "cell_type": "code",
      "execution_count": 1,
      "metadata": {
        "id": "mZ2V-vy4KX1c",
        "outputId": "5c044fab-2f87-4179-a585-af1e0fc3bb2a",
        "colab": {
          "base_uri": "https://localhost:8080/"
        }
      },
      "outputs": [
        {
          "output_type": "stream",
          "name": "stdout",
          "text": [
            "8\n"
          ]
        }
      ],
      "source": [
        "def custom_power(base, exponent):\n",
        "    result = 1\n",
        "    for _ in range(exponent):\n",
        "        result *= base\n",
        "    return result\n",
        "\n",
        "print(custom_power(2,3))\n"
      ]
    },
    {
      "cell_type": "markdown",
      "source": [
        "#9.2\tArray Manipulation (7 Marks)\n",
        "Write a function named \"subtotal\" takes as its arguments the following:\n",
        "(1)  an array of values;\n",
        "The function should replace the contents of each cell with the sum of the contents of all the cells in the original array from the left end to the cell in question.  Thus, for example, if the array passed to the function looks like\n",
        "this:\n",
        "\n",
        "   0     1     2     3     4\n",
        " 5.8 | 2.6 | 9.1 | 3.4 | 7.0  \n",
        "\n",
        "when the function returns, the array will have been changed so that it looks like this:\n",
        "  \n",
        " 0     1     2      3      4\n",
        " 5.8 | 8.4 | 17.5 | 20.9 | 27.9  "
      ],
      "metadata": {
        "id": "fJJlYbQxRyJs"
      }
    },
    {
      "cell_type": "code",
      "execution_count": 14,
      "metadata": {
        "id": "6XLBuJ7qKVc_",
        "outputId": "e50f83c1-5cea-4b04-bb44-562db9da5608",
        "colab": {
          "base_uri": "https://localhost:8080/"
        }
      },
      "outputs": [
        {
          "output_type": "stream",
          "name": "stdout",
          "text": [
            "[1, 3, 6]\n"
          ]
        }
      ],
      "source": [
        "def array_add(array):\n",
        "  new_array=[]\n",
        "  for i in range(len(array)):\n",
        "    new_array.append(sum(array[:i+1]))\n",
        "\n",
        "  return new_array\n",
        "\n",
        "\n",
        "array=[1,2,3]\n",
        "print(array_add(array))\n"
      ]
    },
    {
      "cell_type": "markdown",
      "source": [
        "# 9.3\tCounter (7.5 Marks)\n",
        "Write a function “Counter” that receives a character array and calculates Total characters, uppercases, lowercases and spaces then return them all. (In this question, all characters except spaces are counted as letters).\n"
      ],
      "metadata": {
        "id": "eAyDR6A0R4BS"
      }
    },
    {
      "cell_type": "code",
      "execution_count": 15,
      "metadata": {
        "id": "rHM9y9yjKU8j",
        "outputId": "c621df12-7a26-4f99-9843-fe59c064639e",
        "colab": {
          "base_uri": "https://localhost:8080/"
        }
      },
      "outputs": [
        {
          "output_type": "stream",
          "name": "stdout",
          "text": [
            "Lowercase: 10\n",
            "Uppercase: 3\n",
            "Spaces: 2\n"
          ]
        }
      ],
      "source": [
        "def character_array_check(array):\n",
        "    lower_cases = 0\n",
        "    upper_cases = 0\n",
        "    spaces = 0\n",
        "\n",
        "    for char in array:\n",
        "        if char.isupper():\n",
        "            upper_cases += 1\n",
        "        elif char.islower():\n",
        "            lower_cases += 1\n",
        "        else:\n",
        "            spaces += 1\n",
        "    return lower_cases, upper_cases, spaces\n",
        "input_array = \"Hamza The Great\"\n",
        "lower, upper, spaces = character_array_check(input_array)\n",
        "print(\"Lowercase:\", lower)\n",
        "print(\"Uppercase:\", upper)\n",
        "print(\"Spaces:\", spaces)\n"
      ]
    },
    {
      "cell_type": "markdown",
      "source": [
        "# 9.4\tMedian (7.5 Marks)\n",
        "Write a function in python that receives an array and find the median.\n",
        "Input: 9, 7, 13, 12, 16\n",
        "Median is: 12\n"
      ],
      "metadata": {
        "id": "fbA11FbqR9GZ"
      }
    },
    {
      "cell_type": "code",
      "execution_count": 23,
      "metadata": {
        "id": "VVexaC52JXNg",
        "outputId": "d650b2b5-0a8d-4479-c5c3-ee5e785c9f8f",
        "colab": {
          "base_uri": "https://localhost:8080/"
        }
      },
      "outputs": [
        {
          "output_type": "stream",
          "name": "stdout",
          "text": [
            "12\n"
          ]
        }
      ],
      "source": [
        "def median(array):\n",
        "  array.sort()\n",
        "  if len(array)%2 == 0:\n",
        "    length=len(array)\n",
        "    x=array[length/2]+array[length/2+1]\n",
        "    median=x/2\n",
        "    return median\n",
        "  length=len(array)\n",
        "  median=array[int(length/2)]\n",
        "  return median\n",
        "array=[9,7,13,12,16]\n",
        "print(median(array))\n",
        "\n"
      ]
    },
    {
      "cell_type": "markdown",
      "source": [
        "#---------------Submit Your file--------------"
      ],
      "metadata": {
        "id": "Pn9j4EIeFcel"
      }
    },
    {
      "cell_type": "markdown",
      "source": [
        "**Best of Luck**"
      ],
      "metadata": {
        "id": "-2MWCodIFPzz"
      }
    }
  ],
  "metadata": {
    "colab": {
      "provenance": []
    },
    "kernelspec": {
      "name": "python3",
      "display_name": "Python 3"
    },
    "language_info": {
      "name": "python"
    }
  },
  "nbformat": 4,
  "nbformat_minor": 0
}